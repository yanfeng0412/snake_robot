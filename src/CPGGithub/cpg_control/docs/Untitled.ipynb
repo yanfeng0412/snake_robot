{
 "cells": [
  {
   "cell_type": "code",
   "execution_count": 1,
   "metadata": {},
   "outputs": [
    {
     "ename": "NameError",
     "evalue": "name 'root_path' is not defined",
     "output_type": "error",
     "traceback": [
      "\u001b[0;31m---------------------------------------------------------------------------\u001b[0m",
      "\u001b[0;31mNameError\u001b[0m                                 Traceback (most recent call last)",
      "\u001b[0;32m<ipython-input-1-d5ce64990d24>\u001b[0m in \u001b[0;36m<module>\u001b[0;34m()\u001b[0m\n\u001b[1;32m      1\u001b[0m \u001b[0;34m\u001b[0m\u001b[0m\n\u001b[1;32m      2\u001b[0m \u001b[0;32mimport\u001b[0m \u001b[0mos\u001b[0m\u001b[0;34m\u001b[0m\u001b[0m\n\u001b[0;32m----> 3\u001b[0;31m \u001b[0mos\u001b[0m\u001b[0;34m.\u001b[0m\u001b[0mchdir\u001b[0m\u001b[0;34m(\u001b[0m\u001b[0mroot_path\u001b[0m\u001b[0;34m)\u001b[0m\u001b[0;34m\u001b[0m\u001b[0m\n\u001b[0m",
      "\u001b[0;31mNameError\u001b[0m: name 'root_path' is not defined"
     ]
    }
   ],
   "source": [
    " "
   ]
  },
  {
   "cell_type": "code",
   "execution_count": 3,
   "metadata": {
    "collapsed": true
   },
   "outputs": [],
   "source": [
    "# 实验数据原始目录\n",
    "group_dir = 'log-files/Mar_09_TRPO_Exp15'   \n",
    "# 实验环境\n",
    "ENV_name = 'CellrobotEnvCPG2-v0'\n",
    "# 实验序号\n",
    "exp_id = 15\n",
    "# 实验工程根目录\n",
    "root_path = '/home/drl/PycharmProjects/rl_baselines/baselines'\n",
    "\n",
    "exp_no_list= [1,2,3,4,  ]\n",
    "OUTPUT_ALL = False\n",
    "render = True\n",
    "save_plot = False"
   ]
  },
  {
   "cell_type": "code",
   "execution_count": 4,
   "metadata": {},
   "outputs": [
    {
     "data": {
      "text/plain": [
       "['No_1-CellrobotEnvCPG2-v0_trpo_mpi-Mar-09_17:28:09',\n",
       " 'No_4-CellrobotEnvCPG2-v0_trpo_mpi-Mar-10_07:05:50',\n",
       " 'No_2-CellrobotEnvCPG2-v0_trpo_mpi-Mar-09_22:05:08',\n",
       " 'No_3-CellrobotEnvCPG2-v0_trpo_mpi-Mar-10_02:34:27']"
      ]
     },
     "execution_count": 4,
     "metadata": {},
     "output_type": "execute_result"
    }
   ],
   "source": [
    "import os \n",
    "os.chdir(root_path)\n",
    "\n",
    "\n",
    "import numpy as np\n",
    "import pandas as pd\n",
    "import matplotlib.pyplot as plt\n",
    "from baselines.common import plot_util as pu\n",
    "from utils import IO\n",
    "\n",
    "\n",
    "exp_path = os.path.join(root_path, group_dir, ENV_name )\n",
    "exp_dir_list = os.listdir(exp_path)\n",
    "\n",
    "exp_dir_list"
   ]
  },
  {
   "cell_type": "code",
   "execution_count": 5,
   "metadata": {
    "collapsed": true
   },
   "outputs": [],
   "source": [
    "results_dir = os.path.join(root_path,  group_dir , 'results')\n",
    "monitor_dir = os.path.join(root_path,  group_dir ,  'monitor')\n",
    "\n",
    "if not os.path.isdir(results_dir):\n",
    "    print('create dir')\n",
    "    os.makedirs(results_dir)"
   ]
  },
  {
   "cell_type": "code",
   "execution_count": 6,
   "metadata": {},
   "outputs": [
    {
     "data": {
      "text/html": [
       "<div>\n",
       "<style scoped>\n",
       "    .dataframe tbody tr th:only-of-type {\n",
       "        vertical-align: middle;\n",
       "    }\n",
       "\n",
       "    .dataframe tbody tr th {\n",
       "        vertical-align: top;\n",
       "    }\n",
       "\n",
       "    .dataframe thead th {\n",
       "        text-align: right;\n",
       "    }\n",
       "</style>\n",
       "<table border=\"1\" class=\"dataframe\">\n",
       "  <thead>\n",
       "    <tr style=\"text-align: right;\">\n",
       "      <th></th>\n",
       "      <th>exp1</th>\n",
       "      <th>exp2</th>\n",
       "      <th>exp3</th>\n",
       "      <th>exp4</th>\n",
       "    </tr>\n",
       "  </thead>\n",
       "  <tbody>\n",
       "    <tr>\n",
       "      <th>_hidden_keys</th>\n",
       "      <td>[]</td>\n",
       "      <td>[]</td>\n",
       "      <td>[]</td>\n",
       "      <td>[]</td>\n",
       "    </tr>\n",
       "    <tr>\n",
       "      <th>action_dim</th>\n",
       "      <td>13</td>\n",
       "      <td>13</td>\n",
       "      <td>40</td>\n",
       "      <td>40</td>\n",
       "    </tr>\n",
       "    <tr>\n",
       "      <th>alg</th>\n",
       "      <td>trpo_mpi</td>\n",
       "      <td>trpo_mpi</td>\n",
       "      <td>trpo_mpi</td>\n",
       "      <td>trpo_mpi</td>\n",
       "    </tr>\n",
       "    <tr>\n",
       "      <th>ent_coef</th>\n",
       "      <td>0.01</td>\n",
       "      <td>0.01</td>\n",
       "      <td>0.01</td>\n",
       "      <td>0.01</td>\n",
       "    </tr>\n",
       "    <tr>\n",
       "      <th>env</th>\n",
       "      <td>CellrobotEnvCPG2-v0</td>\n",
       "      <td>CellrobotEnvCPG2-v0</td>\n",
       "      <td>CellrobotEnvCPG2-v0</td>\n",
       "      <td>CellrobotEnvCPG2-v0</td>\n",
       "    </tr>\n",
       "    <tr>\n",
       "      <th>gamma</th>\n",
       "      <td>0.9995</td>\n",
       "      <td>0.9995</td>\n",
       "      <td>0.9995</td>\n",
       "      <td>0.9995</td>\n",
       "    </tr>\n",
       "    <tr>\n",
       "      <th>network</th>\n",
       "      <td>mlp</td>\n",
       "      <td>mlp</td>\n",
       "      <td>mlp</td>\n",
       "      <td>mlp</td>\n",
       "    </tr>\n",
       "    <tr>\n",
       "      <th>num_timesteps</th>\n",
       "      <td>1e+07</td>\n",
       "      <td>1e+07</td>\n",
       "      <td>1e+07</td>\n",
       "      <td>1e+07</td>\n",
       "    </tr>\n",
       "    <tr>\n",
       "      <th>reward_fun_choice</th>\n",
       "      <td>10</td>\n",
       "      <td>5</td>\n",
       "      <td>10</td>\n",
       "      <td>5</td>\n",
       "    </tr>\n",
       "    <tr>\n",
       "      <th>seed</th>\n",
       "      <td>0</td>\n",
       "      <td>0</td>\n",
       "      <td>0</td>\n",
       "      <td>0</td>\n",
       "    </tr>\n",
       "    <tr>\n",
       "      <th>timesteps_per_batch</th>\n",
       "      <td>4096</td>\n",
       "      <td>4096</td>\n",
       "      <td>4096</td>\n",
       "      <td>4096</td>\n",
       "    </tr>\n",
       "  </tbody>\n",
       "</table>\n",
       "</div>"
      ],
      "text/plain": [
       "                                    exp1                 exp2  \\\n",
       "_hidden_keys                          []                   []   \n",
       "action_dim                            13                   13   \n",
       "alg                             trpo_mpi             trpo_mpi   \n",
       "ent_coef                            0.01                 0.01   \n",
       "env                  CellrobotEnvCPG2-v0  CellrobotEnvCPG2-v0   \n",
       "gamma                             0.9995               0.9995   \n",
       "network                              mlp                  mlp   \n",
       "num_timesteps                      1e+07                1e+07   \n",
       "reward_fun_choice                     10                    5   \n",
       "seed                                   0                    0   \n",
       "timesteps_per_batch                 4096                 4096   \n",
       "\n",
       "                                    exp3                 exp4  \n",
       "_hidden_keys                          []                   []  \n",
       "action_dim                            40                   40  \n",
       "alg                             trpo_mpi             trpo_mpi  \n",
       "ent_coef                            0.01                 0.01  \n",
       "env                  CellrobotEnvCPG2-v0  CellrobotEnvCPG2-v0  \n",
       "gamma                             0.9995               0.9995  \n",
       "network                              mlp                  mlp  \n",
       "num_timesteps                      1e+07                1e+07  \n",
       "reward_fun_choice                     10                    5  \n",
       "seed                                   0                    0  \n",
       "timesteps_per_batch                 4096                 4096  "
      ]
     },
     "execution_count": 6,
     "metadata": {},
     "output_type": "execute_result"
    }
   ],
   "source": [
    "exp_list = IO(os.path.join(os.path.join(root_path, group_dir), 'exp_id{}_param.pkl').format(exp_id)).read_pickle()\n",
    "exp_list_pd = pd.DataFrame(exp_list)\n",
    "exp_list_pd"
   ]
  },
  {
   "cell_type": "code",
   "execution_count": 7,
   "metadata": {},
   "outputs": [
    {
     "data": {
      "text/plain": [
       "_hidden_keys                         []\n",
       "alg                            trpo_mpi\n",
       "env                  CellrobotEnvCPG-v0\n",
       "network                             mlp\n",
       "num_timesteps                     1e+06\n",
       "reward_fun_choice                     1\n",
       "seed                                  0\n",
       "Name: exp1, dtype: object"
      ]
     },
     "execution_count": 7,
     "metadata": {},
     "output_type": "execute_result"
    }
   ],
   "source": [
    "exp_list_pd['exp1']"
   ]
  },
  {
   "cell_type": "code",
   "execution_count": 5,
   "metadata": {},
   "outputs": [
    {
     "data": {
      "text/plain": [
       "'No_1-CellrobotEnvCPG-v0_trpo_mpi-Mar-04_23:18:04'"
      ]
     },
     "execution_count": 5,
     "metadata": {},
     "output_type": "execute_result"
    }
   ],
   "source": [
    "def find_ExpPath(n, exp_dir_list):\n",
    "    exp_path = []\n",
    "    for p in exp_dir_list:\n",
    "        no_exp = int(p.split('-')[0].split('_')[1])  # aparse\n",
    "        if  no_exp == n:\n",
    "            exp_path.append(p)\n",
    "    if len(exp_path) >1:\n",
    "        raise Exception(\"The folder contains more than 2 path of EXP No.{}\".format(n))\n",
    "    if len(exp_path) == 0:\n",
    "        raise Exception(\"Cannot find the path of EXP No.{}\".format(n))\n",
    "    return exp_path[0]\n",
    "\n",
    "find_ExpPath(1,exp_dir_list)"
   ]
  },
  {
   "cell_type": "code",
   "execution_count": 6,
   "metadata": {},
   "outputs": [
    {
     "name": "stdout",
     "output_type": "stream",
     "text": [
      "skipping progress file in  /home/drl/PycharmProjects/rl_baselines/baselines/log-files/Mar_04_TRPO_Exp1/CellrobotEnvCPG-v0/No_1-CellrobotEnvCPG-v0_trpo_mpi-Mar-04_23:18:04 empty data\n"
     ]
    },
    {
     "name": "stderr",
     "output_type": "stream",
     "text": [
      "/home/drl/PycharmProjects/rl_baselines/baselines/baselines/bench/monitor.py:163: UserWarning: Pandas doesn't allow columns to be created via a new attribute name - see https://pandas.pydata.org/pandas-docs/stable/indexing.html#attribute-access\n",
      "  df.headers = headers # HACK to preserve backwards compatibility\n"
     ]
    },
    {
     "ename": "AttributeError",
     "evalue": "'NoneType' object has no attribute 'TimestepsSoFar'",
     "output_type": "error",
     "traceback": [
      "\u001b[0;31m---------------------------------------------------------------------------\u001b[0m",
      "\u001b[0;31mAttributeError\u001b[0m                            Traceback (most recent call last)",
      "\u001b[0;32m<ipython-input-6-94e7e65d6de6>\u001b[0m in \u001b[0;36m<module>\u001b[0;34m()\u001b[0m\n\u001b[1;32m     14\u001b[0m     \u001b[0mplt\u001b[0m\u001b[0;34m.\u001b[0m\u001b[0mfigure\u001b[0m\u001b[0;34m(\u001b[0m\u001b[0;34m)\u001b[0m\u001b[0;34m\u001b[0m\u001b[0m\n\u001b[1;32m     15\u001b[0m     \u001b[0mname\u001b[0m \u001b[0;34m=\u001b[0m \u001b[0;34m'No.{} learning curve'\u001b[0m\u001b[0;34m.\u001b[0m\u001b[0mformat\u001b[0m\u001b[0;34m(\u001b[0m\u001b[0mexp_no\u001b[0m\u001b[0;34m)\u001b[0m\u001b[0;34m\u001b[0m\u001b[0m\n\u001b[0;32m---> 16\u001b[0;31m     \u001b[0mplt\u001b[0m\u001b[0;34m.\u001b[0m\u001b[0mplot\u001b[0m\u001b[0;34m(\u001b[0m\u001b[0mr\u001b[0m\u001b[0;34m.\u001b[0m\u001b[0mprogress\u001b[0m\u001b[0;34m.\u001b[0m\u001b[0mTimestepsSoFar\u001b[0m\u001b[0;34m,\u001b[0m \u001b[0mr\u001b[0m\u001b[0;34m.\u001b[0m\u001b[0mprogress\u001b[0m\u001b[0;34m.\u001b[0m\u001b[0mEpRewMean\u001b[0m\u001b[0;34m)\u001b[0m\u001b[0;34m\u001b[0m\u001b[0m\n\u001b[0m\u001b[1;32m     17\u001b[0m \u001b[0;34m\u001b[0m\u001b[0m\n\u001b[1;32m     18\u001b[0m     \u001b[0mplt\u001b[0m\u001b[0;34m.\u001b[0m\u001b[0mtitle\u001b[0m\u001b[0;34m(\u001b[0m\u001b[0mname\u001b[0m\u001b[0;34m)\u001b[0m\u001b[0;34m\u001b[0m\u001b[0m\n",
      "\u001b[0;31mAttributeError\u001b[0m: 'NoneType' object has no attribute 'TimestepsSoFar'"
     ]
    },
    {
     "data": {
      "text/plain": [
       "<Figure size 432x288 with 0 Axes>"
      ]
     },
     "metadata": {},
     "output_type": "display_data"
    }
   ],
   "source": [
    "results_list = list()\n",
    "last_results = list()\n",
    " \n",
    "    \n",
    "for exp_no in exp_no_list:\n",
    "    r_path = find_ExpPath(exp_no, exp_dir_list)\n",
    "    result_path = os.path.join(exp_path, r_path)\n",
    "    # read results and params\n",
    "     \n",
    "        \n",
    "    results = pu.load_results(result_path) \n",
    "    r = results[0]\n",
    "    \n",
    "    plt.figure()\n",
    "    name = 'No.{} learning curve'.format(exp_no)\n",
    "    plt.plot(r.progress.TimestepsSoFar, r.progress.EpRewMean)\n",
    "    \n",
    "    plt.title(name)\n",
    "    if save_plot:    \n",
    "        plt.savefig(os.path.join(results_path, '{}.jpg'.format(name)))"
   ]
  },
  {
   "cell_type": "code",
   "execution_count": 21,
   "metadata": {},
   "outputs": [
    {
     "data": {
      "text/plain": [
       "[1, 2, 3, 4, 5, 6]"
      ]
     },
     "execution_count": 21,
     "metadata": {},
     "output_type": "execute_result"
    }
   ],
   "source": [
    "exp_no_list"
   ]
  },
  {
   "cell_type": "markdown",
   "metadata": {},
   "source": [
    "alg='trpo_mpi', env='CellrobotEnvCPG-v0', env_type=None, exp_no=1, extra_import=None, gamestate=None, load_path='/home/drl/PycharmProjects/rl_baselines/baselines/log-files/Mar_04_TRPO_Exp1/CellrobotEnvCPG-v0/No_1-CellrobotEnvCPG-v0_trpo_mpi-Mar-04_23:18:04/model/modelmodel', network='mlp', num_env=None, num_timesteps=0, play=True, reward_scale=1.0, save_path=None, save_plot_path=None, save_video_interval=0, save_video_length=200, seed=None"
   ]
  },
  {
   "cell_type": "code",
   "execution_count": null,
   "metadata": {
    "collapsed": true
   },
   "outputs": [],
   "source": [
    "python3 -m evaluate.run --alg=trpo_mpi --env=CellrobotEnvCPG-v0 --num_timesteps=0 --load_path=/home/drl/PycharmProjects/rl_baselines/baselines/log-files/Mar_04_TRPO_Exp1/CellrobotEnvCPG-v0/No_1-CellrobotEnvCPG-v0_trpo_mpi-Mar-04_23:18:04/model/modelmodel --play --save_path='log' --save_video_interval=1"
   ]
  },
  {
   "cell_type": "code",
   "execution_count": 25,
   "metadata": {},
   "outputs": [
    {
     "name": "stdout",
     "output_type": "stream",
     "text": [
      "/bin/sh: 1: =/home/drl/PycharmProjects/rl_baselines/baselines/log-files/Mar_04_TRPO_Exp1/CellrobotEnvCPG-v0/No_1-CellrobotEnvCPG-v0_trpo_mpi-Mar-04_23:18:04: not found\r\n"
     ]
    }
   ],
   "source": [
    "!$load_path=/home/drl/PycharmProjects/rl_baselines/baselines/log-files/Mar_04_TRPO_Exp1/CellrobotEnvCPG-v0/No_1-CellrobotEnvCPG-v0_trpo_mpi-Mar-04_23:18:04 "
   ]
  },
  {
   "cell_type": "code",
   "execution_count": null,
   "metadata": {
    "collapsed": true
   },
   "outputs": [],
   "source": []
  }
 ],
 "metadata": {
  "kernelspec": {
   "display_name": "mujoco150",
   "language": "python",
   "name": "mujoco150"
  },
  "language_info": {
   "codemirror_mode": {
    "name": "ipython",
    "version": 3
   },
   "file_extension": ".py",
   "mimetype": "text/x-python",
   "name": "python",
   "nbconvert_exporter": "python",
   "pygments_lexer": "ipython3",
   "version": "3.5.2"
  }
 },
 "nbformat": 4,
 "nbformat_minor": 2
}
