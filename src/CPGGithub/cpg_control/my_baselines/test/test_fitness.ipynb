{
 "cells": [
  {
   "cell_type": "code",
   "execution_count": 45,
   "metadata": {
    "collapsed": true
   },
   "outputs": [],
   "source": [
    "from matplotlib.pylab import plt\n",
    "import numpy as np"
   ]
  },
  {
   "cell_type": "code",
   "execution_count": 46,
   "metadata": {
    "collapsed": true
   },
   "outputs": [],
   "source": [
    "def K_kernel(x):\n",
    "    #x = np.linalg.norm(x)\n",
    "    K = -1 / (np.exp(x/0.1) + 2 + np.exp(-x/0.1))\n",
    "    return K\n",
    "\n",
    "def K_kernel2(x):\n",
    "    #x = np.linalg.norm(x)\n",
    "    x = np.clip(x, -10, 10)\n",
    "    K = -1 / (np.exp(x / 0.2) + np.exp(-x / 0.2))\n",
    "    return K"
   ]
  },
  {
   "cell_type": "code",
   "execution_count": 47,
   "metadata": {
    "collapsed": true
   },
   "outputs": [],
   "source": [
    "c_v1 = 60*0.01\n",
    "c_v2 = 1\n",
    "\n",
    "x = np.linspace(0,1, 100)"
   ]
  },
  {
   "cell_type": "code",
   "execution_count": 48,
   "metadata": {
    "collapsed": true
   },
   "outputs": [],
   "source": [
    "y = -c_v1 * K_kernel(c_v2 * (x))"
   ]
  },
  {
   "cell_type": "code",
   "execution_count": 49,
   "metadata": {},
   "outputs": [
    {
     "data": {
      "text/plain": [
       "[<matplotlib.lines.Line2D at 0x7f2272cca610>]"
      ]
     },
     "execution_count": 49,
     "metadata": {},
     "output_type": "execute_result"
    },
    {
     "data": {
      "image/png": "[encoded data removed]",
      "text/plain": [
       "<Figure size 640x480 with 1 Axes>"
      ]
     },
     "metadata": {},
     "output_type": "display_data"
    }
   ],
   "source": [
    "plt.plot(x,y)\n",
    "\n",
    "#@#plt.ylim([0,2])"
   ]
  },
  {
   "cell_type": "code",
   "execution_count": 50,
   "metadata": {
    "collapsed": true
   },
   "outputs": [],
   "source": [
    "def K_kernel3(x):\n",
    "    x = np.linalg.norm(x)\n",
    "    K = -1 / (np.exp(x/0.1) + 2 + np.exp(-x/0.1))\n",
    "    return K\n",
    "\n",
    "def reward7(velocity_base, v_commdand):\n",
    "    v_e = np.concatenate((velocity_base[:2], velocity_base[-1:])) - v_commdand  # x, y, yaw\n",
    "    vxy = v_commdand[:2]\n",
    "    wyaw = v_commdand[2]\n",
    "    dt =0.01\n",
    "\n",
    "    #reward calculate\n",
    "    kc = 1\n",
    "    c_w = 150* dt\n",
    "    c_v1 = 200 *  dt\n",
    "    c_v2 = 1\n",
    "    lin_vel_cost = c_v1 * K_kernel3(c_v2 * (velocity_base[:2] - vxy))\n",
    "    ang_vel_cost = c_w * K_kernel3(velocity_base[-1] -wyaw )\n",
    "\n",
    "    return -lin_vel_cost, -ang_vel_cost"
   ]
  },
  {
   "cell_type": "code",
   "execution_count": 51,
   "metadata": {
    "collapsed": true
   },
   "outputs": [],
   "source": [
    "v_b = np.array([-0.0001462446,-0.0053383102,-0.0456031509,0.0720960647,0.0809975155,0.0101319291])\n",
    "v_command = np.array([-0.3,0,0])"
   ]
  },
  {
   "cell_type": "code",
   "execution_count": 52,
   "metadata": {},
   "outputs": [
    {
     "name": "stdout",
     "output_type": "stream",
     "text": [
      "0.09043409547659663 0.37403924432956864\n"
     ]
    }
   ],
   "source": [
    "lin_reward , ang_reward = reward7(v_b, v_command)\n",
    "\n",
    "print(lin_reward, ang_reward)"
   ]
  },
  {
   "cell_type": "code",
   "execution_count": 53,
   "metadata": {},
   "outputs": [
    {
     "name": "stdout",
     "output_type": "stream",
     "text": [
      "/home/a/fyp_ws/src/cpg_control/my_baselines/test\n",
      "/home/a/fyp_ws/src/cpg_control/my_baselines/test/my_envs/mujoco\n",
      "['/home/a/fyp_ws/src/cpg_control/my_baselines/test', '', '/home/a/catkin_ws/devel/lib/python3/dist-packages', '/opt/ros/noetic/lib/python3/dist-packages', '/home/a/anaconda3/envs/CPG/lib/python39.zip', '/home/a/anaconda3/envs/CPG/lib/python3.9', '/home/a/anaconda3/envs/CPG/lib/python3.9/lib-dynload', '/home/a/anaconda3/envs/CPG/lib/python3.9/site-packages', '/home/a/fyp_ws/src/cpg_control/my_baselines/baselines/bench', '/home/a/fyp_ws/src/cpg_control/my_baselines/baselines/my_envs', '/home/a/fyp_ws/src/cpg_control/my_baselines/my_envs']\n"
     ]
    }
   ],
   "source": [
    "import os\n",
    "\n",
    "print(os.getcwd()) # Prints the current working directory\n",
    "\n",
    "# Navigate to the desired path\n",
    "path = os.path.join(os.getcwd(), 'my_envs', 'mujoco')\n",
    "print(path) # Prints the full path to my_envs/mujoco\n",
    "import sys\n",
    "\n",
    "print(sys.path) # Prints the list of directories where Python looks for modules"
   ]
  },
  {
   "cell_type": "code",
   "execution_count": 59,
   "metadata": {
    "collapsed": true
   },
   "outputs": [
    {
     "ename": "ModuleNotFoundError",
     "evalue": "No module named 'my_baselines'",
     "output_type": "error",
     "traceback": [
      "\u001b[0;31m---------------------------------------------------------------------------\u001b[0m",
      "\u001b[0;31mModuleNotFoundError\u001b[0m                       Traceback (most recent call last)",
      "Cell \u001b[0;32mIn[59], line 3\u001b[0m\n\u001b[1;32m      1\u001b[0m \u001b[39mimport\u001b[39;00m \u001b[39mgym\u001b[39;00m\n\u001b[1;32m      2\u001b[0m \u001b[39mimport\u001b[39;00m \u001b[39mnumpy\u001b[39;00m \u001b[39mas\u001b[39;00m \u001b[39mnp\u001b[39;00m\n\u001b[0;32m----> 3\u001b[0m \u001b[39mfrom\u001b[39;00m \u001b[39mmy_baselines\u001b[39;00m\u001b[39m.\u001b[39;00m\u001b[39mmy_envs\u001b[39;00m\u001b[39m.\u001b[39;00m\u001b[39mmujoco\u001b[39;00m \u001b[39mimport\u001b[39;00m \u001b[39m*\u001b[39m\n\u001b[1;32m      5\u001b[0m \u001b[39mfrom\u001b[39;00m \u001b[39mmy_baselines\u001b[39;00m\u001b[39m.\u001b[39;00m\u001b[39mmy_envs\u001b[39;00m\u001b[39m.\u001b[39;00m\u001b[39mbase\u001b[39;00m\u001b[39m.\u001b[39;00m\u001b[39mcommand_generator\u001b[39;00m \u001b[39mimport\u001b[39;00m command_generator\n\u001b[1;32m      6\u001b[0m \u001b[39mfrom\u001b[39;00m \u001b[39mmatplotlib\u001b[39;00m\u001b[39m.\u001b[39;00m\u001b[39mpylab\u001b[39;00m \u001b[39mimport\u001b[39;00m plt\n",
      "\u001b[0;31mModuleNotFoundError\u001b[0m: No module named 'my_baselines'"
     ]
    }
   ],
   "source": [
    " \n",
    "import gym\n",
    "import numpy as np\n",
    "from my_baselines.my_envs.mujoco import *\n",
    "\n",
    "from my_baselines.my_envs.base.command_generator import command_generator\n",
    "from matplotlib.pylab import plt\n",
    "from evaluate.plot_results import *"
   ]
  },
  {
   "cell_type": "code",
   "execution_count": null,
   "metadata": {},
   "outputs": [],
   "source": []
  },
  {
   "cell_type": "code",
   "execution_count": null,
   "metadata": {
    "scrolled": true
   },
   "outputs": [],
   "source": [
    "env = gym.make('CellrobotEnvCPG-v0')  # Swimmer2-v2  SpaceInvaders-v0 CellrobotEnv-v0\n",
    "\n",
    "#env = gym.wrappers.Monitor(env, 'tmp/tmp.mp4', force=True)\n",
    "\n",
    "print('state: ', env.observation_space)\n",
    "print('action: ', env.action_space)\n",
    "q_dim = 1\n",
    "\n",
    "command =  command_generator(10000, 0.01, 2, vx_range=(-0.2, 0.2), vy_range = (0,0), wyaw_range = (0,0))\n",
    "reward_fun = 1\n",
    "obs = env.reset(command = command, reward_fun_choice = reward_fun)\n",
    "print('test')\n",
    "\n",
    "max_step = 1000\n",
    "\n",
    "# while True:\n",
    "#     env.render()\n",
    "\n",
    "v_e = []\n",
    "c_command = []\n",
    "xyz = []\n",
    "\n",
    "rewards = []\n",
    "action = np.ones(39)* ( 1)\n",
    "for i in range(max_step):\n",
    "\n",
    "   # env.render()\n",
    "    #action = env.action_space.sample()\n",
    "\n",
    "    next_obs, reward, done, infos = env.step(action)\n",
    "\n",
    "\n",
    "\n",
    "    obs = next_obs\n",
    "\n",
    "    v_e.append(infos['velocity_base'])\n",
    "    c_command.append(infos['commands'])\n",
    "    xyz.append(infos['obs'][:3])\n",
    "    rewards.append(infos['rewards'])\n",
    "\n",
    "    #env.render(mode='rgb_array')#mode='rgb_array'\n",
    "env.close()\n",
    "dt =0.01\n",
    "\n",
    "\n",
    "v_e = np.array(v_e)\n",
    "c_command = np.array(c_command)\n",
    "xyz = np.array(xyz)\n",
    "\n"
   ]
  },
  {
   "cell_type": "code",
   "execution_count": null,
   "metadata": {
    "scrolled": false
   },
   "outputs": [],
   "source": [
    "plot_velocity_curve(v_e, c_command, max_step, dt = 0.01, figsize=(8,6))\n",
    "plot_position_time(xyz, max_step, dt = 0.01, figsize=(8,6))\n",
    "plot_traj_xy(xyz, max_step, dt = 0.01, figsize=(8,6))"
   ]
  },
  {
   "cell_type": "code",
   "execution_count": null,
   "metadata": {},
   "outputs": [],
   "source": [
    "rewards"
   ]
  },
  {
   "cell_type": "code",
   "execution_count": null,
   "metadata": {},
   "outputs": [],
   "source": [
    "rewards = np.array(rewards)\n",
    "#forward_reward, ctrl_cost, contact_cost, survive_reward\n",
    "\n",
    "plt.plot(rewards[:,0])\n"
   ]
  },
  {
   "cell_type": "code",
   "execution_count": null,
   "metadata": {},
   "outputs": [],
   "source": [
    "forward_reward = np.abs(rewards[:,1]/rewards[:,0]) * np.sign(rewards[:,1])\n",
    "ctrl_cost = np.abs(rewards[:,2]/rewards[:,0]) * np.sign(rewards[:,2])\n",
    "contact_cost = np.abs(rewards[:,3]/rewards[:,0]) * np.sign(rewards[:,3])\n",
    "survive_reward = np.abs(rewards[:,4]/rewards[:,0]) * np.sign(rewards[:,4])\n",
    "\n",
    "\n",
    "plt.figure(figsize=(18,6))\n",
    "plt.plot(forward_reward, label='for')\n",
    "plt.plot(ctrl_cost, label='ct')\n",
    "plt.plot(contact_cost, label='con')\n",
    "plt.plot(survive_reward, label='sur')\n",
    "plt.grid()\n",
    "plt.legend()\n",
    "\n",
    "#plt.bar(range(forward_reward.shape[0]), forward_reward)"
   ]
  },
  {
   "cell_type": "code",
   "execution_count": null,
   "metadata": {
    "collapsed": true
   },
   "outputs": [],
   "source": [
    "import os \n",
    "os.chdir('/home/drl/PycharmProjects/rl_baselines/my_baselines')\n",
    "import gym\n",
    "import numpy as np\n",
    "\n",
    "from my_envs.mujoco import *\n",
    "from my_envs.base.command_generator import command_generator\n",
    "from matplotlib.pylab import plt\n",
    "from evaluate.plot_results import *\n",
    "\n",
    "def plot_fitness_t(reward_fun):\n",
    "    env = gym.make('CellrobotEnvCPG-v0')  # Swimmer2-v2  SpaceInvaders-v0 CellrobotEnv-v0\n",
    " \n",
    "    print('state: ', env.observation_space)\n",
    "    print('action: ', env.action_space)\n",
    " \n",
    "\n",
    "    command =  command_generator(10000, 0.01, 2, vx_range=(-0.2, 0.2), vy_range = (0,0), wyaw_range = (0,0))\n",
    "    \n",
    "    obs = env.reset( command, reward_fun)\n",
    " \n",
    "\n",
    "    max_step = 1000\n",
    " \n",
    "\n",
    "    v_e = []\n",
    "    c_command = []\n",
    "    xyz = []\n",
    "\n",
    "    rewards = []\n",
    "    action = np.ones(39)* ( 1)\n",
    "    for i in range(max_step):\n",
    "\n",
    "       # env.render()\n",
    "        #action = env.action_space.sample()\n",
    "\n",
    "        next_obs, reward, done, infos = env.step(action)\n",
    "        obs = next_obs\n",
    "\n",
    "        v_e.append(infos['velocity_base'])\n",
    "        c_command.append(infos['commands'])\n",
    "        xyz.append(infos['obs'][:3])\n",
    "        rewards.append(infos['rewards'])\n",
    "\n",
    "        #env.render(mode='rgb_array')#mode='rgb_array'\n",
    "    env.close()\n",
    "    dt =0.01\n",
    "\n",
    "\n",
    "    v_e = np.array(v_e)\n",
    "    c_command = np.array(c_command)\n",
    "    xyz = np.array(xyz)\n",
    "    \n",
    "    \n",
    "    plt.figure(figsize=(18,6))\n",
    "    rewards_duty = []   \n",
    "    for i in range(rewards.shape[1]-1):\n",
    "        rewards_duty.append(np.abs(rewards[:,1+i]/rewards[:,0]) * np.sign(rewards[:,1+i]))\n",
    "         \n",
    "\n",
    "\n",
    "        \n",
    "        plt.plot(rewards_duty[i], label=str(i))\n",
    "    \n",
    "    plt.grid()\n",
    "    plt.legend()\n",
    "    plt.show()\n",
    "     \n"
   ]
  },
  {
   "cell_type": "code",
   "execution_count": null,
   "metadata": {},
   "outputs": [],
   "source": [
    "plot_fitness_t(1)"
   ]
  },
  {
   "cell_type": "code",
   "execution_count": null,
   "metadata": {},
   "outputs": [],
   "source": [
    "env = gym.make('CellrobotEnvCPG-v0')  # Swimmer2-v2  SpaceInvaders-v0 CellrobotEnv-v0\n",
    " \n",
    "print('state: ', env.observation_space)\n",
    "print('action: ', env.action_space)\n",
    "\n",
    "\n",
    "command =  command_generator(10000, 0.01, 2, vx_range=(-0.2, 0.2), vy_range = (0,0), wyaw_range = (0,0))\n",
    "reward_fun =1\n",
    "obs = env.reset( command, reward_fun)\n",
    "\n",
    "\n",
    "max_step = 1000\n",
    "\n",
    "\n",
    "v_e = []\n",
    "c_command = []\n",
    "xyz = []\n",
    "\n",
    "rewards = []\n",
    "action = np.ones(39)* ( 1)\n",
    "for i in range(max_step):\n",
    "\n",
    "   # env.render()\n",
    "    #action = env.action_space.sample()\n",
    "\n",
    "    next_obs, reward, done, infos = env.step(action)\n",
    "    obs = next_obs\n",
    "\n",
    "    v_e.append(infos['velocity_base'])\n",
    "    c_command.append(infos['commands'])\n",
    "    xyz.append(infos['obs'][:3])\n",
    "    rewards.append(infos['rewards'])\n",
    "\n",
    "    #env.render(mode='rgb_array')#mode='rgb_array'\n",
    "env.close()\n",
    "dt =0.01\n",
    "\n",
    "\n",
    "v_e = np.array(v_e)\n",
    "c_command = np.array(c_command)\n",
    "xyz = np.array(xyz)\n",
    "\n",
    "\n",
    "plt.figure(figsize=(18,6))\n",
    "rewards_duty = []   \n",
    "for i in range(rewards.shape[1]-1):\n",
    "    rewards_duty.append(np.abs(rewards[:,1+i]/rewards[:,0]) * np.sign(rewards[:,1+i]))\n",
    "\n",
    "\n",
    "\n",
    "\n",
    "    plt.plot(rewards_duty[i], label=str(i))\n",
    "\n",
    "plt.grid()\n",
    "plt.legend()\n",
    "plt.show()"
   ]
  },
  {
   "cell_type": "code",
   "execution_count": null,
   "metadata": {
    "collapsed": true
   },
   "outputs": [],
   "source": []
  }
 ],
 "metadata": {
  "kernelspec": {
   "display_name": "CPG",
   "language": "python",
   "name": "python3"
  },
  "language_info": {
   "codemirror_mode": {
    "name": "ipython",
    "version": 3
   },
   "file_extension": ".py",
   "mimetype": "text/x-python",
   "name": "python",
   "nbconvert_exporter": "python",
   "pygments_lexer": "ipython3",
   "version": "3.9.5"
  },
  "vscode": {
   "interpreter": {
    "hash": "691008f988b1964d34a58ad8fb59d1adaa89d8fe5327de40c549e8dcce00eb71"
   }
  }
 },
 "nbformat": 4,
 "nbformat_minor": 2
}
